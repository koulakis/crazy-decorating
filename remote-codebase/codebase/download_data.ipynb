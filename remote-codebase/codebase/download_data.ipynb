{
 "cells": [
  {
   "cell_type": "code",
   "execution_count": 1,
   "metadata": {},
   "outputs": [
    {
     "name": "stderr",
     "output_type": "stream",
     "text": [
      "/home/ubuntu/anaconda3/envs/tensorflow_p36/lib/python3.6/site-packages/matplotlib/__init__.py:962: UserWarning: Duplicate key in file \"/home/ubuntu/.config/matplotlib/matplotlibrc\", line #2\n",
      "  (fname, cnt))\n",
      "/home/ubuntu/anaconda3/envs/tensorflow_p36/lib/python3.6/site-packages/matplotlib/__init__.py:962: UserWarning: Duplicate key in file \"/home/ubuntu/.config/matplotlib/matplotlibrc\", line #3\n",
      "  (fname, cnt))\n"
     ]
    }
   ],
   "source": [
    "import json\n",
    "import urllib\n",
    "import multiprocessing\n",
    "import sys\n",
    "import pandas as pd\n",
    "import requests\n",
    "\n",
    "def read_json(filepath):\n",
    "    with open(filepath) as data_file:    \n",
    "        data = json.load(data_file)\n",
    "    return data\n",
    "\n",
    "def export_labels(filepath, outputpath):\n",
    "    data = read_json(filepath)\n",
    "        \n",
    "    annotations = data['annotations']\n",
    "    \n",
    "    pd.DataFrame(annotations).to_csv(outputpath, index=False)\n",
    "\n",
    "def download_image(image, directory, timeout):\n",
    "    output_path = '{}/pic_{}.png'.format(directory, image['image_id'])\n",
    "    url = image['url'][0]\n",
    "        \n",
    "    try: \n",
    "        request = requests.get(url, timeout=timeout, stream=True)\n",
    "\n",
    "        with open(output_path, 'wb') as fh:\n",
    "            for chunk in request.iter_content(1024 * 1024):\n",
    "                fh.write(chunk)\n",
    "    except:\n",
    "        print(image['image_id'], end=',')\n",
    "        \n",
    "    sys.stdout.flush()\n",
    "    \n",
    "def download_pictures(filepath, directory, pool_size, timeout):\n",
    "    data = read_json(filepath)\n",
    "    \n",
    "    images = data['images']\n",
    "\n",
    "    pool = multiprocessing.Pool(pool_size)\n",
    "\n",
    "    for image in images:\n",
    "        pool.apply_async(download_image, [image, directory, timeout])\n",
    "\n",
    "    pool.close()\n",
    "    pool.join()\n",
    "    print(\"Downloaded images for {}\".format(filepath))"
   ]
  },
  {
   "cell_type": "code",
   "execution_count": 2,
   "metadata": {},
   "outputs": [],
   "source": [
    "test_size_json = read_json('../data/test.json')"
   ]
  },
  {
   "cell_type": "code",
   "execution_count": 4,
   "metadata": {},
   "outputs": [
    {
     "data": {
      "text/plain": [
       "12800"
      ]
     },
     "execution_count": 4,
     "metadata": {},
     "output_type": "execute_result"
    }
   ],
   "source": [
    "len(test_size_json['images'])"
   ]
  },
  {
   "cell_type": "code",
   "execution_count": 5,
   "metadata": {},
   "outputs": [],
   "source": [
    "export_labels('../data/validation.json', '../data/validation-lables.csv')"
   ]
  },
  {
   "cell_type": "code",
   "execution_count": 3,
   "metadata": {},
   "outputs": [],
   "source": [
    "test_json = read_json('../data/validation.json')"
   ]
  },
  {
   "cell_type": "code",
   "execution_count": 6,
   "metadata": {
    "scrolled": true
   },
   "outputs": [
    {
     "data": {
      "text/html": [
       "<div>\n",
       "<style scoped>\n",
       "    .dataframe tbody tr th:only-of-type {\n",
       "        vertical-align: middle;\n",
       "    }\n",
       "\n",
       "    .dataframe tbody tr th {\n",
       "        vertical-align: top;\n",
       "    }\n",
       "\n",
       "    .dataframe thead th {\n",
       "        text-align: right;\n",
       "    }\n",
       "</style>\n",
       "<table border=\"1\" class=\"dataframe\">\n",
       "  <thead>\n",
       "    <tr style=\"text-align: right;\">\n",
       "      <th></th>\n",
       "      <th>image_id</th>\n",
       "      <th>label_id</th>\n",
       "    </tr>\n",
       "  </thead>\n",
       "  <tbody>\n",
       "    <tr>\n",
       "      <th>0</th>\n",
       "      <td>1</td>\n",
       "      <td>38</td>\n",
       "    </tr>\n",
       "    <tr>\n",
       "      <th>1</th>\n",
       "      <td>2</td>\n",
       "      <td>63</td>\n",
       "    </tr>\n",
       "    <tr>\n",
       "      <th>2</th>\n",
       "      <td>3</td>\n",
       "      <td>33</td>\n",
       "    </tr>\n",
       "    <tr>\n",
       "      <th>3</th>\n",
       "      <td>4</td>\n",
       "      <td>126</td>\n",
       "    </tr>\n",
       "    <tr>\n",
       "      <th>4</th>\n",
       "      <td>5</td>\n",
       "      <td>18</td>\n",
       "    </tr>\n",
       "  </tbody>\n",
       "</table>\n",
       "</div>"
      ],
      "text/plain": [
       "   image_id  label_id\n",
       "0         1        38\n",
       "1         2        63\n",
       "2         3        33\n",
       "3         4       126\n",
       "4         5        18"
      ]
     },
     "execution_count": 6,
     "metadata": {},
     "output_type": "execute_result"
    }
   ],
   "source": [
    "pd.DataFrame(test_json['annotations']).head()"
   ]
  },
  {
   "cell_type": "code",
   "execution_count": 3,
   "metadata": {
    "scrolled": false
   },
   "outputs": [],
   "source": [
    "export_labels('../data/train.json', '../data/train-labels.csv')\n",
    "export_labels('../data/validation.json', '../data/validation-labels.csv')"
   ]
  },
  {
   "cell_type": "code",
   "execution_count": null,
   "metadata": {},
   "outputs": [],
   "source": [
    "%%time\n",
    "download_pictures('../data/train.json', '../data/train', 500, 1)"
   ]
  },
  {
   "cell_type": "code",
   "execution_count": null,
   "metadata": {},
   "outputs": [],
   "source": [
    "%%time\n",
    "download_pictures('data/validation.json', 'data/validation', 500, 1)"
   ]
  },
  {
   "cell_type": "code",
   "execution_count": null,
   "metadata": {},
   "outputs": [],
   "source": [
    "%%time\n",
    "download_pictures('../data/test.json', '../data/test', 500, 1)"
   ]
  }
 ],
 "metadata": {
  "kernelspec": {
   "display_name": "Python 3",
   "language": "python",
   "name": "python3"
  },
  "language_info": {
   "codemirror_mode": {
    "name": "ipython",
    "version": 3
   },
   "file_extension": ".py",
   "mimetype": "text/x-python",
   "name": "python",
   "nbconvert_exporter": "python",
   "pygments_lexer": "ipython3",
   "version": "3.6.4"
  }
 },
 "nbformat": 4,
 "nbformat_minor": 2
}
