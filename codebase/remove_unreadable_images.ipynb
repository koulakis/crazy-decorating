{
 "cells": [
  {
   "cell_type": "markdown",
   "metadata": {},
   "source": [
    "# Remove unreadable images"
   ]
  },
  {
   "cell_type": "code",
   "execution_count": 11,
   "metadata": {},
   "outputs": [],
   "source": [
    "import os\n",
    "from skimage.io import imread\n",
    "import shutil\n",
    "from multiprocessing import Pool\n",
    "import json"
   ]
  },
  {
   "cell_type": "code",
   "execution_count": null,
   "metadata": {},
   "outputs": [],
   "source": [
    "!mkdir ../data/train_images_readable\n",
    "!mkdir ../data/validation_images_readable\n",
    "!mkdir ../data/test_images_readable"
   ]
  },
  {
   "cell_type": "code",
   "execution_count": null,
   "metadata": {},
   "outputs": [],
   "source": [
    "def image_is_readable(image_path):    \n",
    "    try:\n",
    "        image = imread(image_path)\n",
    "        if (len(image.shape) != 3) or (image.shape[2] != 3):\n",
    "            raise Exception('Invalid image dimensions')\n",
    "           \n",
    "        return True\n",
    "    except Exception as e:\n",
    "        print(e)\n",
    "        return False\n",
    "        \n",
    "def move_from_a_to_b(image_path, output_directory):\n",
    "    if image_is_readable(image_path):\n",
    "        shutil.copy(image_path, output_directory)\n",
    "\n",
    "def export_list_of_unreadable_images(input_directory, output_directory, filepath):\n",
    "    unreadable_images = list(set(os.listdir(input_directory)) - set(os.listdir(output_directory)))\n",
    "    \n",
    "    with open(filepath, 'w') as path:\n",
    "        json.dump(unreadable_images, path)\n",
    "\n",
    "def remove_unreadable(input_directory, output_directory, unreadable_images_filepath, pool_size):\n",
    "    image_file_names = os.listdir(input_directory)\n",
    "    image_paths = [os.path.join(input_directory, name) for name in image_file_names]\n",
    "    \n",
    "    pool = Pool(pool_size)\n",
    "    \n",
    "    for path in image_paths:\n",
    "        pool.apply_async(move_from_a_to_b, [path, output_directory])\n",
    "        \n",
    "    pool.close()\n",
    "    pool.join()\n",
    "    \n",
    "    export_list_of_unreadable_images(input_directory, output_directory, unreadable_images_filepath)"
   ]
  },
  {
   "cell_type": "code",
   "execution_count": null,
   "metadata": {},
   "outputs": [],
   "source": [
    "remove_unreadable(\n",
    "    '../data/train_images/', \n",
    "    '../data/train_images_readable/', \n",
    "    '../data/unreadable_train_images.json', \n",
    "    20)"
   ]
  },
  {
   "cell_type": "code",
   "execution_count": null,
   "metadata": {},
   "outputs": [],
   "source": [
    "remove_unreadable(\n",
    "    '../data/validation_images/', \n",
    "    '../data/validation_images_readable/', \n",
    "    '../data/unreadable_validation_images.json', \n",
    "    20)"
   ]
  },
  {
   "cell_type": "code",
   "execution_count": null,
   "metadata": {},
   "outputs": [],
   "source": [
    "remove_unreadable(\n",
    "    '../data/test_images/', \n",
    "    '../data/test_images_readable/', \n",
    "    '../data/unreadable_test_images.json', \n",
    "    20)"
   ]
  },
  {
   "cell_type": "code",
   "execution_count": null,
   "metadata": {},
   "outputs": [],
   "source": [
    "!zip -r ../data/train_images_readable.zip ../data/train_images_readable/\n",
    "!zip -r ../data/validation_images_readable.zip ../data/validation_images_readable/\n",
    "!zip -r ../data/test_images_readable.zip ../data/test_images_readable/"
   ]
  },
  {
   "cell_type": "code",
   "execution_count": null,
   "metadata": {},
   "outputs": [],
   "source": [
    "!aws s3 cp ../data/train_images_readable.zip s3://furniture-kaggle/\n",
    "!aws s3 cp ../data/validation_images_readable.zip s3://furniture-kaggle/\n",
    "!aws s3 cp ../data/test_images_readable.zip s3://furniture-kaggle/"
   ]
  },
  {
   "cell_type": "code",
   "execution_count": null,
   "metadata": {},
   "outputs": [],
   "source": [
    "!aws s3 cp ../data/unreadable_train_images.json s3://furniture-kaggle/\n",
    "!aws s3 cp ../data/unreadable_validation_images.json s3://furniture-kaggle/\n",
    "!aws s3 cp ../data/unreadable_test_images.json s3://furniture-kaggle/"
   ]
  }
 ],
 "metadata": {
  "kernelspec": {
   "display_name": "Python 3",
   "language": "python",
   "name": "python3"
  },
  "language_info": {
   "codemirror_mode": {
    "name": "ipython",
    "version": 3
   },
   "file_extension": ".py",
   "mimetype": "text/x-python",
   "name": "python",
   "nbconvert_exporter": "python",
   "pygments_lexer": "ipython3",
   "version": "3.6.2"
  }
 },
 "nbformat": 4,
 "nbformat_minor": 2
}
