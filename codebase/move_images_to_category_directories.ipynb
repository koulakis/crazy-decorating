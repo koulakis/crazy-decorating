{
 "cells": [
  {
   "cell_type": "markdown",
   "metadata": {},
   "source": [
    "# Move images to category directories\n",
    "So that keras can autmatically import them."
   ]
  },
  {
   "cell_type": "code",
   "execution_count": 20,
   "metadata": {},
   "outputs": [],
   "source": [
    "import os\n",
    "from multiprocessing import Pool\n",
    "import pandas as pd\n",
    "from shutil import copyfile"
   ]
  },
  {
   "cell_type": "code",
   "execution_count": 85,
   "metadata": {},
   "outputs": [],
   "source": [
    "def categorize_image(image_id, input_directory, output_directory, label): \n",
    "    copyfile(\n",
    "        os.path.join(input_directory, 'pic_{}.png'.format(image_id)),\n",
    "        os.path.join(output_directory, str(label + 1), 'pic_{}.png'.format(image_id)))\n",
    "\n",
    "def categorize_images(input_directory, output_directory, labels, pool_size):\n",
    "    image_filenames = os.listdir(input_directory)\n",
    "    image_ids = [int(filename.split('.')[0].split('_')[1]) for filename in image_filenames]\n",
    "    \n",
    "    pool = Pool(pool_size)\n",
    "    \n",
    "    for image_id in image_ids:\n",
    "        pool.apply_async(categorize_image, [image_id, input_directory, output_directory, labels[image_id]])\n",
    "        \n",
    "    pool.close()\n",
    "    pool.join()"
   ]
  },
  {
   "cell_type": "code",
   "execution_count": null,
   "metadata": {},
   "outputs": [],
   "source": [
    "!mkdir ../data/train_images_categorized\n",
    "!mkdir ../data/validation_images_categorized"
   ]
  },
  {
   "cell_type": "code",
   "execution_count": null,
   "metadata": {},
   "outputs": [],
   "source": [
    "for i in range(1, 129):\n",
    "    !mkdir ../data/train_images_categorized/{i}"
   ]
  },
  {
   "cell_type": "code",
   "execution_count": 17,
   "metadata": {
    "scrolled": false
   },
   "outputs": [],
   "source": [
    "for i in range(1, 129):\n",
    "    !mkdir ../data/validation_images_categorized/{i}"
   ]
  },
  {
   "cell_type": "code",
   "execution_count": null,
   "metadata": {},
   "outputs": [],
   "source": [
    "train_images_directory = '../data/train_images_readable/'\n",
    "validation_images_directory = '../data/validation_images_readable/'\n",
    "\n",
    "train_labels = ((pd\n",
    "    .read_csv('https://s3-us-west-2.amazonaws.com/furniture-kaggle/train-labels.csv')\n",
    "    .set_index('image_id')['label_id'] - 1)\n",
    "    .to_dict())\n",
    "\n",
    "validation_labels = ((pd\n",
    "    .read_csv('https://s3-us-west-2.amazonaws.com/furniture-kaggle/validation-labels.csv')\n",
    "    .set_index('image_id')['label_id'] - 1)\n",
    "    .to_dict())\n",
    "\n",
    "train_filenames = os.listdir(train_images_directory)\n",
    "train_ids = [int(filename.split('.')[0].split('_')[1]) for filename in train_filenames]\n",
    "\n",
    "validation_filenames = os.listdir(validation_images_directory)\n",
    "validation_ids = [int(filename.split('.')[0].split('_')[1]) for filename in validation_filenames]"
   ]
  },
  {
   "cell_type": "code",
   "execution_count": 92,
   "metadata": {},
   "outputs": [],
   "source": [
    "categorize_images(\n",
    "    train_images_directory, \n",
    "    '../data/train_images_categorized/', \n",
    "    train_labels, \n",
    "    200)"
   ]
  },
  {
   "cell_type": "code",
   "execution_count": 86,
   "metadata": {},
   "outputs": [],
   "source": [
    "categorize_images(\n",
    "    validation_images_directory, \n",
    "    '../data/validation_images_categorized/', \n",
    "    validation_labels, \n",
    "    200)"
   ]
  },
  {
   "cell_type": "code",
   "execution_count": null,
   "metadata": {},
   "outputs": [],
   "source": [
    "!aws s3 cp --recursive ../data/train_images_categorized/ s3://furniture-kaggle/train_images_categorized/\n",
    "!aws s3 cp --recursive ../data/validation_images_categorized/ s3://furniture-kaggle/validation_images_categorized/"
   ]
  }
 ],
 "metadata": {
  "kernelspec": {
   "display_name": "Python 3",
   "language": "python",
   "name": "python3"
  },
  "language_info": {
   "codemirror_mode": {
    "name": "ipython",
    "version": 3
   },
   "file_extension": ".py",
   "mimetype": "text/x-python",
   "name": "python",
   "nbconvert_exporter": "python",
   "pygments_lexer": "ipython3",
   "version": "3.6.2"
  }
 },
 "nbformat": 4,
 "nbformat_minor": 2
}
