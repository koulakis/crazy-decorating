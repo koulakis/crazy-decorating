{
 "cells": [
  {
   "cell_type": "markdown",
   "metadata": {},
   "source": [
    "# Resize images"
   ]
  },
  {
   "cell_type": "code",
   "execution_count": 1,
   "metadata": {},
   "outputs": [],
   "source": [
    "import os\n",
    "from skimage.io import imread\n",
    "from skimage.transform import resize\n",
    "from multiprocessing import Pool"
   ]
  },
  {
   "cell_type": "code",
   "execution_count": null,
   "metadata": {},
   "outputs": [],
   "source": [
    "!mkdir ../data/train_images_resized\n",
    "!mkdir ../data/validation_images_resized\n",
    "!mkdir ../data/test_images_resized"
   ]
  },
  {
   "cell_type": "code",
   "execution_count": null,
   "metadata": {},
   "outputs": [],
   "source": [
    "def resize_and_export(filename, output_directory, size):\n",
    "    image = imread(os.path.join(input_dir, filename))\n",
    "    save_path = os.path.join(output_directory, '{}.npy'.format(filename))\n",
    "    np.save(\n",
    "        save_path,\n",
    "        resize(image, size))\n",
    "\n",
    "def resize_images(input_directory, output_directory, size, pool_size):\n",
    "    image_file_names = os.listdir(input_directory)\n",
    "    \n",
    "    pool = Pool(pool_size)\n",
    "    \n",
    "    for filename in image_file_names:\n",
    "        pool.apply_async(resize_and_export, [filename, input_directory, output_directory, size])\n",
    "        \n",
    "    pool.close()\n",
    "    pool.join()"
   ]
  },
  {
   "cell_type": "code",
   "execution_count": null,
   "metadata": {},
   "outputs": [],
   "source": [
    "resize_images(\n",
    "    '../data/train_images_readable/', \n",
    "    '../data/train_images_resized/', \n",
    "    (299, 299), \n",
    "    20)"
   ]
  },
  {
   "cell_type": "code",
   "execution_count": null,
   "metadata": {},
   "outputs": [],
   "source": [
    "resize_images(\n",
    "    '../data/validation_images_readable/', \n",
    "    '../data/validation_images_resized/', \n",
    "    (299, 299), \n",
    "    20)"
   ]
  },
  {
   "cell_type": "code",
   "execution_count": null,
   "metadata": {},
   "outputs": [],
   "source": [
    "resize_images(\n",
    "    '../data/test_images_readable/', \n",
    "    '../data/test_images_resized/', \n",
    "    (299, 299), \n",
    "    20)"
   ]
  }
 ],
 "metadata": {
  "kernelspec": {
   "display_name": "Python 3",
   "language": "python",
   "name": "python3"
  },
  "language_info": {
   "codemirror_mode": {
    "name": "ipython",
    "version": 3
   },
   "file_extension": ".py",
   "mimetype": "text/x-python",
   "name": "python",
   "nbconvert_exporter": "python",
   "pygments_lexer": "ipython3",
   "version": "3.6.2"
  }
 },
 "nbformat": 4,
 "nbformat_minor": 2
}
