{
 "cells": [
  {
   "cell_type": "code",
   "execution_count": 1,
   "metadata": {},
   "outputs": [],
   "source": [
    "import json\n",
    "import urllib\n",
    "import multiprocessing\n",
    "import sys\n",
    "import pandas as pd\n",
    "import requests\n",
    "\n",
    "def read_json(filepath):\n",
    "    with open(filepath) as data_file:    \n",
    "        data = json.load(data_file)\n",
    "    return data\n",
    "\n",
    "def export_labels(filepath, outputpath):\n",
    "    data = read_json(filepath)\n",
    "        \n",
    "    annotations = data['annotations']\n",
    "    \n",
    "    pd.DataFrame(annotations).to_csv(outputpath, index=False)\n",
    "\n",
    "def download_image(image, directory, timeout):\n",
    "    output_path = '{}/pic_{}.png'.format(directory, image['image_id'])\n",
    "    url = image['url'][0]\n",
    "        \n",
    "    try: \n",
    "        request = requests.get(url, timeout=timeout, stream=True)\n",
    "\n",
    "        with open(output_path, 'wb') as fh:\n",
    "            for chunk in request.iter_content(1024 * 1024):\n",
    "                fh.write(chunk)\n",
    "    except:\n",
    "        print(image['image_id'], end=',')\n",
    "        \n",
    "    sys.stdout.flush()\n",
    "    \n",
    "def download_pictures(filepath, directory, pool_size, timeout):\n",
    "    data = read_json(filepath)\n",
    "    \n",
    "    images = data['images']\n",
    "\n",
    "    pool = multiprocessing.Pool(pool_size)\n",
    "\n",
    "    for image in images:\n",
    "        pool.apply_async(download_image, [image, directory, timeout])\n",
    "\n",
    "    pool.close()\n",
    "    pool.join()\n",
    "    print(\"Downloaded images for {}\".format(filepath))"
   ]
  },
  {
   "cell_type": "code",
   "execution_count": 3,
   "metadata": {
    "scrolled": false
   },
   "outputs": [],
   "source": [
    "export_labels('../data/train.json', '../data/train-labels.csv')\n",
    "export_labels('../data/validation.json', '../data/validation-labels.csv')"
   ]
  },
  {
   "cell_type": "code",
   "execution_count": null,
   "metadata": {},
   "outputs": [],
   "source": [
    "%%time\n",
    "download_pictures('../data/train.json', '../data/train', 500, 1)"
   ]
  },
  {
   "cell_type": "code",
   "execution_count": null,
   "metadata": {},
   "outputs": [],
   "source": [
    "%%time\n",
    "download_pictures('data/validation.json', 'data/validation', 500, 1)"
   ]
  },
  {
   "cell_type": "code",
   "execution_count": null,
   "metadata": {},
   "outputs": [],
   "source": [
    "%%time\n",
    "download_pictures('../data/test.json', '../data/test', 500, 1)"
   ]
  }
 ],
 "metadata": {
  "kernelspec": {
   "display_name": "Python 3",
   "language": "python",
   "name": "python3"
  },
  "language_info": {
   "codemirror_mode": {
    "name": "ipython",
    "version": 3
   },
   "file_extension": ".py",
   "mimetype": "text/x-python",
   "name": "python",
   "nbconvert_exporter": "python",
   "pygments_lexer": "ipython3",
   "version": "3.6.2"
  }
 },
 "nbformat": 4,
 "nbformat_minor": 2
}
